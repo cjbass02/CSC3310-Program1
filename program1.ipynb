{
 "cells": [
  {
   "cell_type": "markdown",
   "metadata": {},
   "source": [
    "Program 1\n",
    "\n",
    "Christian Basso, Patrick McDonald, David Litton\n",
    "\n",
    "CSC 3310\n",
    "\n",
    "January 30, 2024"
   ]
  },
  {
   "cell_type": "code",
   "execution_count": 33,
   "metadata": {
    "ExecuteTime": {
     "end_time": "2024-02-06T05:58:56.394972Z",
     "start_time": "2024-02-06T05:58:56.370582300Z"
    }
   },
   "outputs": [],
   "source": [
    "import copy\n",
    "import math"
   ]
  },
  {
   "cell_type": "markdown",
   "metadata": {},
   "source": [
    "# Program 1"
   ]
  },
  {
   "cell_type": "markdown",
   "metadata": {},
   "source": [
    "This code will take in a list of tuples that represent a point with an x and y coordinate. It will create the largest convex hull possible from the points and return the list of all the points that represent the hull."
   ]
  },
  {
   "cell_type": "markdown",
   "metadata": {},
   "source": [
    "Here are some array examples:"
   ]
  },
  {
   "cell_type": "code",
   "execution_count": 34,
   "metadata": {
    "ExecuteTime": {
     "end_time": "2024-02-06T05:58:56.692587400Z",
     "start_time": "2024-02-06T05:58:56.574824800Z"
    }
   },
   "outputs": [],
   "source": [
    "arr1 = ((0,0), (1, 1), (2, 2), (3, 3), (1, 4), (4, 5), \n",
    "        (5, 6), (6, 7), (7, 8), (8, 9), (0, 5), (9, 0), \n",
    "        (4, 9), (0, 6), (6, 9), (0, 7), (7, 9), (0, 8), \n",
    "        (8, 9), (0, 9), (7, 9), (6, 2))\n",
    "\n",
    "arr2 = ((15, 5), (8, 29), (4, 22), (26, 19), (10, 5), \n",
    "        (21, 7), (19, 7), (30, 25), (14, 28), (19, 12))\n",
    "\n",
    "arr3 = ((8, 16), (22, 7), (23, 27), (14, 16), (9, 20), \n",
    "        (29, 30), (10, 17), (20, 21), (4, 12), (29, 5))\n",
    "\n",
    "arr4 = ((0, 0), (1, 1), (2, 2), (3, 3)) #This one shouldnt work...\n",
    "\n",
    "arr5 = ((0, 0), (1, 1)) #This one shouldnt work...\n",
    "\n",
    "arr6 = ((0, 0), (0, 1), (1, 0), (5, 5))"
   ]
  },
  {
   "cell_type": "markdown",
   "metadata": {},
   "source": [
    "### Functions"
   ]
  },
  {
   "cell_type": "code",
   "execution_count": 35,
   "metadata": {
    "ExecuteTime": {
     "end_time": "2024-02-06T05:58:56.752587900Z",
     "start_time": "2024-02-06T05:58:56.650047700Z"
    }
   },
   "outputs": [],
   "source": [
    "'''\n",
    "Function to calculate distance between two points\n",
    ":author: Christian B\n",
    "'''\n",
    "def distance(point1, point2):\n",
    "    return math.sqrt((point1[0] - point2[0])**2 + (point1[1] - point2[1])**2)\n",
    "\n",
    "'''\n",
    "find_center_point(arr) function\n",
    "returns the center point  as a tuple (x,y)\n",
    ":param: arr - collection comprised of a series of x,y tuple points\n",
    ":author: David L\n",
    "'''\n",
    "def find_center_point(arr):\n",
    "    x_points = 0\n",
    "    y_points = 0\n",
    "    elements = 0\n",
    "    for point in arr:\n",
    "        x_points += point[0]\n",
    "        y_points += point[1]\n",
    "        elements += 1\n",
    "    avg_x = x_points/elements\n",
    "    avg_y = y_points/elements\n",
    "    return (avg_x, avg_y)\n",
    "\n",
    "'''\n",
    "find_farthest_point(arr, center) function\n",
    "returns the farthest point in the input arr from the input center\n",
    ":param: arr - collection comprised of a series of x,y tuple points\n",
    ":param: center - an x and y coordinate\n",
    ":author: David L\n",
    "'''\n",
    "def find_farthest_point(arr, center):\n",
    "    # define distance list\n",
    "    distances = list()\n",
    "    # calculate distance from center to all points and append to distance list\n",
    "    for point in arr:\n",
    "        distances.append(distance(point, center))\n",
    "        \n",
    "    # find max distance\n",
    "    distances.sort(reverse=True)\n",
    "    farthest_distance = distances[0]\n",
    "    \n",
    "    # find index of max distance\n",
    "    distances.clear()\n",
    "    for point in arr:\n",
    "        distances.append(distance(point, center))\n",
    "    index = distances.index(farthest_distance)\n",
    "    \n",
    "    # find and return point\n",
    "    return arr[index]\n",
    "\n",
    "#(Christian)\n",
    "# define function to find most obtuse angle between current point and all other points\n",
    "    # for each point\n",
    "        # cacluate angle between current point and all other points\n",
    "        # Return most obtuse point\n",
    "'''\n",
    "Calculate the angle 3 points make.\n",
    "For the first itteration of the loop the points will be\n",
    "The absolute center point (calculated), the farthest point, and the first point of intrest.\n",
    ":author: Christian B\n",
    "'''\n",
    "def get_angle(A, B, C):\n",
    "    # Calculate the lengths of the sides of the triangle\n",
    "    AB = distance(A, B)\n",
    "    BC = distance(B, C)\n",
    "    AC = distance(A, C)\n",
    "    # Use the law of cosines to calculate the angle at B\n",
    "    cos_angle_B = (AB**2 + BC**2 - AC**2) / (2 * AB * BC)\n",
    "    angle_B_radians = math.acos(cos_angle_B)\n",
    "    angle_B_degrees = math.degrees(angle_B_radians)\n",
    "    return angle_B_degrees"
   ]
  },
  {
   "cell_type": "markdown",
   "metadata": {},
   "source": [
    "### Hull_algorithim\n",
    "In the following cell our hull algorithim will be defined. This algorithm will take in a array **input_arr** and return/print an array of all points on the hull."
   ]
  },
  {
   "cell_type": "code",
   "execution_count": 36,
   "metadata": {
    "ExecuteTime": {
     "end_time": "2024-02-06T05:58:58.559262900Z",
     "start_time": "2024-02-06T05:58:56.730589700Z"
    }
   },
   "outputs": [],
   "source": [
    "# input_arr = arr6\n",
    "\n",
    "# #(David)\n",
    "# # def hull_algorithim (list of points)     \n",
    "# center_point = find_center_point(input_arr)\n",
    "# # Find the furthest point\n",
    "#     # Calculate center average of all points\n",
    "#     # Take point with longest line from the center\n",
    "# farthest_point = find_farthest_point(input_arr, center_point)\n",
    "# # Set furthest point as current point\n",
    "# current_point = farthest_point\n",
    "\n",
    "\n",
    "# # (Patrick)\n",
    "# # for each point\n",
    "#     # Find most obtuse point\n",
    "#     # Add current point to list of hull points\n",
    "#     # Make most obtuse angle point the current point\n",
    "# # return hull points"
   ]
  },
  {
   "cell_type": "code",
   "execution_count": 37,
   "metadata": {
    "ExecuteTime": {
     "end_time": "2024-02-06T06:32:51.851327Z",
     "start_time": "2024-02-06T06:32:51.835298600Z"
    },
    "collapsed": false
   },
   "outputs": [],
   "source": [
    "def calculateHull(points):\n",
    "    if(len(points) < 3):\n",
    "        print(\"Not enough points, need at least 3.\")\n",
    "        return -1\n",
    "    center_point = find_center_point(points) # ret (avg_x,avg_y)\n",
    "    farthest_point = find_farthest_point(points, center_point)\n",
    "    \n",
    "    hull_points = []\n",
    "    # hull_points.append(farthest_point)\n",
    "\n",
    "    has_reached_initial = False\n",
    "    a = center_point\n",
    "    b = farthest_point\n",
    "    c = None\n",
    "    while not has_reached_initial:\n",
    "\n",
    "        largest_angle = 0.0\n",
    "        point_largest_angle = None\n",
    "        for p_in in points:\n",
    "            c = p_in\n",
    "            if c is not b:\n",
    "                angle = get_angle(a, b, c)\n",
    "                if abs(angle) > largest_angle:\n",
    "                    largest_angle = angle\n",
    "                    point_largest_angle = c\n",
    "\n",
    "                    \n",
    "        if (point_largest_angle[0] is farthest_point[0] and point_largest_angle[1] is farthest_point[1]):\n",
    "            has_reached_initial = True\n",
    "        hull_points.append(point_largest_angle)\n",
    "\n",
    "\n",
    "        a = b\n",
    "        b = point_largest_angle\n",
    "        # print(a, b)\n",
    "        c = None\n",
    "    \n",
    "        if b[0] is farthest_point[0] and b[1] is farthest_point[1]:\n",
    "   \n",
    "            has_reached_initial = True\n",
    "    \n",
    "    print(hull_points)\n",
    "    return hull_points\n",
    "    \n",
    "    "
   ]
  },
  {
   "cell_type": "code",
   "execution_count": 39,
   "metadata": {
    "ExecuteTime": {
     "start_time": "2024-02-06T05:58:58.208638900Z"
    },
    "collapsed": false
   },
   "outputs": [],
   "source": [
    "# de = [0, 1]\n",
    "# ed = de\n",
    "# de = [2, 2]\n",
    "# print(ed)"
   ]
  },
  {
   "cell_type": "markdown",
   "metadata": {},
   "source": [
    "#### Function to visualize hull"
   ]
  },
  {
   "cell_type": "code",
   "execution_count": 60,
   "metadata": {},
   "outputs": [],
   "source": [
    "import matplotlib.pyplot as plt\n",
    "\n",
    "def plot_points(arr, hull_points):\n",
    "    # Extract x and y coordinates from the arr\n",
    "    x = [point[0] for point in arr]\n",
    "    y = [point[1] for point in arr]\n",
    "\n",
    "    # Plot the points\n",
    "    plt.scatter(x, y)\n",
    "\n",
    "    plt.show()\n",
    "\n",
    "    # Extract x and y coordinates from the arr\n",
    "    x = [point[0] for point in arr]\n",
    "    y = [point[1] for point in arr]\n",
    "\n",
    "    # Plot the points\n",
    "    plt.scatter(x, y)\n",
    "\n",
    "    # Extract x and y coordinates from the hull_points\n",
    "    hull_x = [point[0] for point in hull_points]\n",
    "    hull_y = [point[1] for point in hull_points]\n",
    "    plt.scatter(hull_x, hull_y, color = 'red')\n",
    "\n",
    "\n",
    "    # Connect the lines all the way around\n",
    "    hull_x.append(hull_x[0])\n",
    "    hull_y.append(hull_y[0])\n",
    "\n",
    "    # Plot the hull points as a connected line\n",
    "    plt.plot(hull_x, hull_y, color='red')\n",
    "\n",
    "    # Add labels and title\n",
    "    plt.xlabel('X')\n",
    "    plt.ylabel('Y')\n",
    "    plt.title('Plot of Points with Hull')\n",
    "\n",
    "    # Show the plot\n",
    "    plt.show()\n",
    "    \n",
    "\n",
    "        "
   ]
  },
  {
   "cell_type": "code",
   "execution_count": 65,
   "metadata": {},
   "outputs": [
    {
     "name": "stdout",
     "output_type": "stream",
     "text": [
      "[(14, 28), (8, 29), (4, 22), (10, 5), (15, 5), (21, 7), (30, 25)]\n"
     ]
    },
    {
     "data": {
      "image/png": "[encoded data removed]",
      "text/plain": [
       "<Figure size 640x480 with 1 Axes>"
      ]
     },
     "metadata": {},
     "output_type": "display_data"
    },
    {
     "data": {
      "image/png": "[encoded data removed]",
      "text/plain": [
       "<Figure size 640x480 with 1 Axes>"
      ]
     },
     "metadata": {},
     "output_type": "display_data"
    }
   ],
   "source": [
    "plot_points(arr2, calculateHull(arr2))"
   ]
  }
 ],
 "metadata": {
  "kernelspec": {
   "display_name": "Python 3 (ipykernel)",
   "language": "python",
   "name": "python3"
  },
  "language_info": {
   "codemirror_mode": {
    "name": "ipython",
    "version": 3
   },
   "file_extension": ".py",
   "mimetype": "text/x-python",
   "name": "python",
   "nbconvert_exporter": "python",
   "pygments_lexer": "ipython3",
   "version": "3.11.7"
  }
 },
 "nbformat": 4,
 "nbformat_minor": 2
}
