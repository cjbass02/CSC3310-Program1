{
 "cells": [
  {
   "cell_type": "markdown",
   "metadata": {},
   "source": [
    "Program 1\n",
    "\n",
    "Christian Basso, Patrick McDonald, David Litton\n",
    "\n",
    "CSC 3310\n",
    "\n",
    "January 30, 2024"
   ]
  },
  {
   "cell_type": "code",
   "execution_count": 1,
   "metadata": {},
   "outputs": [],
   "source": [
    "import math"
   ]
  },
  {
   "cell_type": "markdown",
   "metadata": {},
   "source": [
    "# Program 1"
   ]
  },
  {
   "cell_type": "markdown",
   "metadata": {},
   "source": [
    "This code will take in a list of tuples that represent a point with an x and y coordinate. It will create the largest convex hull possible from the points and return the list of all the points that represent the hull."
   ]
  },
  {
   "cell_type": "markdown",
   "metadata": {},
   "source": [
    "Here are some array examples:"
   ]
  },
  {
   "cell_type": "code",
   "execution_count": 1,
   "metadata": {},
   "outputs": [],
   "source": [
    "arr1 = ((0,0), (1, 1), (2, 2), (3, 3), (1, 4), (4, 5), \n",
    "        (5, 6), (6, 7), (7, 8), (8, 9), (0, 5), (9, 0), \n",
    "        (4, 9), (0, 6), (6, 9), (0, 7), (7, 9), (0, 8), \n",
    "        (8, 9), (0, 9), (7, 9), (6, 2))\n",
    "\n",
    "arr2 = ((15, 5), (8, 29), (4, 22), (26, 19), (10, 5), \n",
    "        (21, 7), (19, 7), (30, 25), (14, 28), (19, 12))\n",
    "\n",
    "arr3 = ((8, 16), (22, 7), (23, 27), (14, 16), (9, 20), \n",
    "        (29, 30), (10, 17), (20, 21), (4, 12), (29, 5))\n",
    "\n",
    "arr4 = ((0, 0), (1, 1), (2, 2), (3, 3)) #This one shouldnt work...\n",
    "\n",
    "arr5 = ((0, 0), (1, 1)) #This one shouldnt work..."
   ]
  },
  {
   "cell_type": "code",
   "execution_count": 2,
   "metadata": {},
   "outputs": [],
   "source": [
    "#(David)\n",
    "# def hull_algorithim (list of points)\n",
    "# Find the furthest point\n",
    "    # Calculate center average of all points\n",
    "    # Take point with longest line from the center\n",
    "# Set furthest point as current point\n",
    "\n",
    "#(Christian)\n",
    "# define function to find most obtuse angle between current point and all other points\n",
    "    # for each point\n",
    "        # cacluate angle between current point and all other points\n",
    "        # Return most obtuse point\n",
    "\n",
    "# Function to calculate distance between two points\n",
    "def distance(point1, point2):\n",
    "    return math.sqrt((point1[0] - point2[0])**2 + (point1[1] - point2[1])**2)\n",
    "\n",
    "# Calculate the angle 3 points make.\n",
    "# For the first itteration of the loop the points will be\n",
    "# The absolute center point (calculated), the farthest point, and the first point of intrest.\n",
    "def get_angle(A, B, C):\n",
    "    # Calculate the lengths of the sides of the triangle\n",
    "    AB = distance(A, B)\n",
    "    BC = distance(B, C)\n",
    "    AC = distance(A, C)\n",
    "    # Use the law of cosines to calculate the angle at B\n",
    "    cos_angle_B = (AB**2 + BC**2 - AC**2) / (2 * AB * BC)\n",
    "    angle_B_radians = math.acos(cos_angle_B)\n",
    "    angle_B_degrees = math.degrees(angle_B_radians)\n",
    "    return angle_B_degrees\n",
    "\n",
    "# (Patrick)\n",
    "# for each point\n",
    "    # Find most obtuse point\n",
    "    # Add current point to list of hull points\n",
    "    # Make most obtuse angle point the current point\n",
    "# return hull points"
   ]
  },
  {
   "cell_type": "code",
   "execution_count": 3,
   "metadata": {},
   "outputs": [
    {
     "data": {
      "text/plain": [
       "90.00000000000001"
      ]
     },
     "execution_count": 3,
     "metadata": {},
     "output_type": "execute_result"
    }
   ],
   "source": [
    "get_angle((0,0), (0,1), (1,1))"
   ]
  },
  {
   "cell_type": "code",
   "execution_count": null,
   "metadata": {},
   "outputs": [],
   "source": []
  }
 ],
 "metadata": {
  "kernelspec": {
   "display_name": "Python 3",
   "language": "python",
   "name": "python3"
  },
  "language_info": {
   "codemirror_mode": {
    "name": "ipython",
    "version": 3
   },
   "file_extension": ".py",
   "mimetype": "text/x-python",
   "name": "python",
   "nbconvert_exporter": "python",
   "pygments_lexer": "ipython3",
   "version": "3.11.7"
  }
 },
 "nbformat": 4,
 "nbformat_minor": 2
}
