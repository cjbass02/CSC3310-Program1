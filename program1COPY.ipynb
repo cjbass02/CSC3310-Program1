{
 "cells": [
  {
   "cell_type": "markdown",
   "metadata": {},
   "source": [
    "Program 1\n",
    "\n",
    "Christian Basso, Patrick McDonald, David Litton\n",
    "\n",
    "CSC 3310\n",
    "\n",
    "January 30, 2024"
   ]
  },
  {
   "cell_type": "code",
   "execution_count": 1,
   "metadata": {
    "ExecuteTime": {
     "end_time": "2024-02-06T05:58:56.394972Z",
     "start_time": "2024-02-06T05:58:56.370582300Z"
    }
   },
   "outputs": [],
   "source": [
    "import copy\n",
    "import math"
   ]
  },
  {
   "cell_type": "markdown",
   "metadata": {},
   "source": [
    "# Program 1"
   ]
  },
  {
   "cell_type": "markdown",
   "metadata": {},
   "source": [
    "This code will take in a list of tuples that represent a point with an x and y coordinate. It will create the largest convex hull possible from the points and return the list of all the points that represent the hull."
   ]
  },
  {
   "cell_type": "markdown",
   "metadata": {},
   "source": [
    "Here are some array examples:"
   ]
  },
  {
   "cell_type": "code",
   "execution_count": 2,
   "metadata": {
    "ExecuteTime": {
     "end_time": "2024-02-06T05:58:56.692587400Z",
     "start_time": "2024-02-06T05:58:56.574824800Z"
    }
   },
   "outputs": [],
   "source": [
    "arr1 = ((0,0), (1, 1), (2, 2), (3, 3), (1, 4), (4, 5), \n",
    "        (5, 6), (6, 7), (7, 8), (8, 9), (0, 5), (9, 0), \n",
    "        (4, 9), (0, 6), (6, 9), (0, 7), (7, 9), (0, 8), \n",
    "        (8, 9), (0, 9), (7, 9), (6, 2))\n",
    "\n",
    "arr2 = ((15, 5), (8, 29), (4, 22), (26, 19), (10, 5), \n",
    "        (21, 7), (19, 7), (30, 25), (14, 28), (19, 12))\n",
    "\n",
    "arr3 = ((8, 16), (22, 7), (23, 27), (14, 16), (9, 20), \n",
    "        (29, 30), (10, 17), (20, 21), (4, 12), (29, 5))\n",
    "\n",
    "arr4 = ((0, 0), (1, 1), (2, 2), (3, 3)) #This one shouldnt work...\n",
    "\n",
    "arr5 = ((0, 0), (1, 1)) #This one shouldnt work...\n",
    "\n",
    "arr6 = ((0, 0), (0, 1), (1, 0), (5, 5))"
   ]
  },
  {
   "cell_type": "markdown",
   "metadata": {},
   "source": [
    "### Functions"
   ]
  },
  {
   "cell_type": "code",
   "execution_count": 3,
   "metadata": {
    "ExecuteTime": {
     "end_time": "2024-02-06T05:58:56.752587900Z",
     "start_time": "2024-02-06T05:58:56.650047700Z"
    }
   },
   "outputs": [],
   "source": [
    "'''\n",
    "Function to calculate distance between two points\n",
    ":author: Christian B\n",
    "'''\n",
    "def distance(point1, point2):\n",
    "    return math.sqrt((point1[0] - point2[0])**2 + (point1[1] - point2[1])**2)\n",
    "\n",
    "'''\n",
    "find_center_point(arr) function\n",
    "returns the center point  as a tuple (x,y)\n",
    ":param: arr - collection comprised of a series of x,y tuple points\n",
    ":author: David L\n",
    "'''\n",
    "def find_center_point(arr):\n",
    "    x_points = 0\n",
    "    y_points = 0\n",
    "    elements = 0\n",
    "    for point in arr:\n",
    "        x_points += point[0]\n",
    "        y_points += point[1]\n",
    "        elements += 1\n",
    "    avg_x = x_points/elements\n",
    "    avg_y = y_points/elements\n",
    "    return (avg_x, avg_y)\n",
    "\n",
    "'''\n",
    "find_farthest_point(arr, center) function\n",
    "returns the farthest point in the input arr from the input center\n",
    ":param: arr - collection comprised of a series of x,y tuple points\n",
    ":param: center - an x and y coordinate\n",
    ":author: David L\n",
    "'''\n",
    "def find_farthest_point(arr, center):\n",
    "    # define distance list\n",
    "    distances = list()\n",
    "    # calculate distance from center to all points and append to distance list\n",
    "    for point in arr:\n",
    "        distances.append(distance(point, center))\n",
    "        \n",
    "    # find max distance\n",
    "    distances.sort(reverse=True)\n",
    "    farthest_distance = distances[0]\n",
    "    \n",
    "    # find index of max distance\n",
    "    distances.clear()\n",
    "    for point in arr:\n",
    "        distances.append(distance(point, center))\n",
    "    index = distances.index(farthest_distance)\n",
    "    \n",
    "    # find and return point\n",
    "    return arr[index]\n",
    "\n",
    "#(Christian)\n",
    "# define function to find most obtuse angle between current point and all other points\n",
    "    # for each point\n",
    "        # cacluate angle between current point and all other points\n",
    "        # Return most obtuse point\n",
    "'''\n",
    "Calculate the angle 3 points make.\n",
    "For the first itteration of the loop the points will be\n",
    "The absolute center point (calculated), the farthest point, and the first point of intrest.\n",
    ":author: Christian B\n",
    "'''\n",
    "def get_angle(A, B, C):\n",
    "    # Calculate the lengths of the sides of the triangle\n",
    "    AB = distance(A, B)\n",
    "    BC = distance(B, C)\n",
    "    AC = distance(A, C)\n",
    "    # Use the law of cosines to calculate the angle at B\n",
    "    cos_angle_B = (AB**2 + BC**2 - AC**2) / (2 * AB * BC)\n",
    "    angle_B_radians = math.acos(cos_angle_B)\n",
    "    angle_B_degrees = round(math.degrees(angle_B_radians))\n",
    "    return angle_B_degrees\n",
    "    "
   ]
  },
  {
   "cell_type": "markdown",
   "metadata": {},
   "source": [
    "### Hull_algorithim\n",
    "In the following cell our hull algorithim will be defined. This algorithm will take in a array **input_arr** and return/print an array of all points on the hull."
   ]
  },
  {
   "cell_type": "code",
   "execution_count": 4,
   "metadata": {
    "ExecuteTime": {
     "end_time": "2024-02-06T06:32:51.851327Z",
     "start_time": "2024-02-06T06:32:51.835298600Z"
    },
    "collapsed": false
   },
   "outputs": [],
   "source": [
    "def calculateHull(points):\n",
    "    # If there are not enough points to make a hull, return -1\n",
    "    if(len(points) < 3):\n",
    "        print(\"Not enough points, need at least 3.\")\n",
    "        return -1\n",
    "    # Find center point\n",
    "    center_point = find_center_point(points) # ret (avg_x,avg_y)\n",
    "    #Find futurest point from the center as a starting point\n",
    "    farthest_point = find_farthest_point(points, center_point)\n",
    "    \n",
    "    # Make the array of all hull points to be returned\n",
    "    hull_points = []\n",
    "\n",
    "    # Tracker to see when the algorithim has made a complete hull\n",
    "    has_reached_initial = False\n",
    "    #Make a flag that tracks if the points make a straight line\n",
    "    is_straight_line = True\n",
    "    # Need 3 points at a time to check angles\n",
    "    # First is the center point, second is the farthest point, third is the first point of intrest\n",
    "    a = center_point\n",
    "    b = farthest_point\n",
    "    c = None\n",
    "\n",
    "    # Loop until the algorithim has made a complete hull\n",
    "    while not has_reached_initial:\n",
    "        \n",
    "        # track the largest angle\n",
    "        largest_angle = -1\n",
    "        #Holds the point that has the largest angle\n",
    "        point_largest_angle = []\n",
    "\n",
    "\n",
    "        # For each point in the list of points\n",
    "\n",
    "        for p_in in points:\n",
    "\n",
    "            # Set point of intrest to next point in the lis \n",
    "            c = p_in\n",
    "            # the point of interst could be the furthest point, this skips that one point\n",
    "            if c is not b:\n",
    "                #Get the angle between the three points\n",
    "                angle = get_angle(a, b, c)\n",
    "                #If the angle is not 180, the points do not make a straight line\n",
    "                if angle != 180 and angle != 0:\n",
    "                    # Update the straight line flag\n",
    "                    is_straight_line = False\n",
    "                # If the angle is larger than the current largest angle\n",
    "                if abs(angle) > largest_angle:\n",
    "                    # Update the largest angle and the point of intrest\n",
    "                    largest_angle = angle\n",
    "                    # Set the point of intrest to the point with the largest angle\n",
    "                    point_largest_angle = c\n",
    "                #If the current angle is the same as the largest angle-----This fixes the straight line issue\n",
    "                elif abs(angle) == largest_angle:\n",
    "                    #If the angle is the same as the largest angle, check the distance\n",
    "                    #If the distance is shorter, update the point of intrest\n",
    "                    if distance(b, c) < distance(b, point_largest_angle):\n",
    "                        point_largest_angle = c\n",
    "                    \n",
    "\n",
    "\n",
    "        # If the hull has made it all the way around, set flag to true\n",
    "        if (point_largest_angle[0] is farthest_point[0] and point_largest_angle[1] is farthest_point[1]):\n",
    "            has_reached_initial = True\n",
    "        # Add the most recent hull point to the list of hull points\n",
    "        hull_points.append(point_largest_angle)\n",
    "\n",
    "        #Update the points for the next itteration\n",
    "        a = b\n",
    "        b = point_largest_angle\n",
    "        # print(a, b)\n",
    "        c = None\n",
    "        \n",
    "        #If the hull points make a straight line, return -1\n",
    "        if is_straight_line:\n",
    "            print(\"The points make a straight line, no hull can be made.\")\n",
    "            return -1\n",
    "    return hull_points\n",
    "    \n",
    "    "
   ]
  },
  {
   "cell_type": "code",
   "execution_count": 5,
   "metadata": {},
   "outputs": [
    {
     "data": {
      "text/plain": [
       "[(14, 28), (8, 29), (4, 22), (10, 5), (15, 5), (21, 7), (30, 25)]"
      ]
     },
     "execution_count": 5,
     "metadata": {},
     "output_type": "execute_result"
    }
   ],
   "source": [
    "calculateHull(arr2)"
   ]
  },
  {
   "cell_type": "markdown",
   "metadata": {},
   "source": [
    "#### Function to visualize hull"
   ]
  },
  {
   "cell_type": "code",
   "execution_count": 6,
   "metadata": {},
   "outputs": [],
   "source": [
    "import matplotlib.pyplot as plt\n",
    "\n",
    "def plot_points(arr, hull_points):\n",
    "    # Extract x and y coordinates from the arr\n",
    "    x = [point[0] for point in arr]\n",
    "    y = [point[1] for point in arr]\n",
    "\n",
    "    # Plot the points\n",
    "    plt.scatter(x, y)\n",
    "\n",
    "    plt.show()\n",
    "\n",
    "    # Extract x and y coordinates from the arr\n",
    "    x = [point[0] for point in arr]\n",
    "    y = [point[1] for point in arr]\n",
    "\n",
    "    # Plot the points\n",
    "    plt.scatter(x, y)\n",
    "\n",
    "    # Extract x and y coordinates from the hull_points\n",
    "    hull_x = [point[0] for point in hull_points]\n",
    "    hull_y = [point[1] for point in hull_points]\n",
    "    plt.scatter(hull_x, hull_y, color = 'red')\n",
    "\n",
    "\n",
    "    # Connect the lines all the way around\n",
    "    hull_x.append(hull_x[0])\n",
    "    hull_y.append(hull_y[0])\n",
    "\n",
    "    # Plot the hull points as a connected line\n",
    "    plt.plot(hull_x, hull_y, color='red')\n",
    "\n",
    "    # Add labels and title\n",
    "    plt.xlabel('X')\n",
    "    plt.ylabel('Y')\n",
    "    plt.title('Plot of Points with Hull')\n",
    "\n",
    "    # Show the plot\n",
    "    plt.show()\n",
    "    \n",
    "\n",
    "        "
   ]
  },
  {
   "cell_type": "code",
   "execution_count": 7,
   "metadata": {},
   "outputs": [
    {
     "data": {
      "image/png": "[encoded data removed]",
      "text/plain": [
       "<Figure size 640x480 with 1 Axes>"
      ]
     },
     "metadata": {},
     "output_type": "display_data"
    },
    {
     "data": {
      "image/png": "[encoded data removed]",
      "text/plain": [
       "<Figure size 640x480 with 1 Axes>"
      ]
     },
     "metadata": {},
     "output_type": "display_data"
    }
   ],
   "source": [
    "plot_points(arr3, calculateHull(arr3))"
   ]
  },
  {
   "cell_type": "code",
   "execution_count": null,
   "metadata": {},
   "outputs": [],
   "source": []
  }
 ],
 "metadata": {
  "kernelspec": {
   "display_name": "Python 3 (ipykernel)",
   "language": "python",
   "name": "python3"
  },
  "language_info": {
   "codemirror_mode": {
    "name": "ipython",
    "version": 3
   },
   "file_extension": ".py",
   "mimetype": "text/x-python",
   "name": "python",
   "nbconvert_exporter": "python",
   "pygments_lexer": "ipython3",
   "version": "3.11.8"
  }
 },
 "nbformat": 4,
 "nbformat_minor": 2
}
